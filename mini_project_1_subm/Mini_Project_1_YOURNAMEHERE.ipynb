{
 "cells": [
  {
   "cell_type": "markdown",
   "metadata": {},
   "source": [
    "# STAT207 Mini-Project #1 - Chris Williams\n",
    "\n",
    "\n"
   ]
  },
  {
   "cell_type": "markdown",
   "metadata": {},
   "source": [
    "## 1. Introduction"
   ]
  },
  {
   "cell_type": "markdown",
   "metadata": {},
   "source": [
    "As an avid Rainbow Six Siege player, I often encounter plateaus when trying to climb ranks. In Siege, ranking up is not just about mechanical skill—factors like teamwork, communication, and strategy also play a major role. While player rank (skillrank) reflects an individual's ability to aim, react, and win gunfights, winning (winrole) is often determined by team coordination and game sense.\n",
    "\n",
    "In this analysis, I want to explore how non-battle skills (nb_skills) such as utility usage—impact a player's ability to win rounds on oehter Defense or Attack. Specifically, I will investigate whether the effect of player skill (skillrank) on win rate (winrole) changes depending on the level of non-battle skills (nb_skills). This will help determine whether non-battle kills can give a team that extra push to win their mathces.\n",
    "\n",
    "Understanding this relationship could be useful for players looking to break through rank plateaus and improve their win rate beyond just aiming better.\n",
    "\n",
    "Research Question: How does the relationship between player skill rank (skillrank) and non-battle kills (nbkills) affect the outcome of an R6 player winining on either Attack or Defense?"
   ]
  },
  {
   "cell_type": "markdown",
   "metadata": {},
   "source": [
    "## 2. Dataset Discussion"
   ]
  },
  {
   "cell_type": "markdown",
   "metadata": {},
   "source": [
    "I will be using the data I have above ot help answer my research question. I found this source from keggle and it peaked my interest as it thoiusands of rows of collected data so I truly felt witht his much data i could accomplish a lot with my findings. https://www.kaggle.com/datasets/maxcobra/rainbow-six-siege-s5-ranked-dataset. I downlaoded this dataset dir3ectly from keggle's page.\n",
    "\n",
    "Each row of data represents a session Played within R6 including their skill rank, win/loss, and non-battle skills.This dataset was likely collected from game logs, player profiles, or match history statistics from an API, third-party tracking service, or personal data collection. This dataset is not entirely inclusive their are mnay factors thet reuslt in a teams loss, cheaters, afk teamates, and teamates purposefully killing each other. The answer to my research question helps those looking to rank up. I beleive these people will find my result relevant to themselves.\n",
    "\n",
    "skillrank (Player Skill Rank - Categorical Variable)\n",
    "Represents the player's mechanical skill, including aim, reflexes, and game performance. Higher rariety indicate a more skilled player in ranked matchmaking.\n",
    "nb_skills (Non-Battle Skills - Categorical/Numerical Variable)\n",
    "Represents game sense and utility usage.\n",
    "winrole (Win Rate - Numerical Variable)\n",
    "Represents whether the player won the match or not, typically as a binary variable (1 = Win, 0 = Loss)."
   ]
  },
  {
   "cell_type": "code",
   "execution_count": 1,
   "metadata": {},
   "outputs": [
    {
     "data": {
      "text/html": [
       "<div>\n",
       "<style scoped>\n",
       "    .dataframe tbody tr th:only-of-type {\n",
       "        vertical-align: middle;\n",
       "    }\n",
       "\n",
       "    .dataframe tbody tr th {\n",
       "        vertical-align: top;\n",
       "    }\n",
       "\n",
       "    .dataframe thead th {\n",
       "        text-align: right;\n",
       "    }\n",
       "</style>\n",
       "<table border=\"1\" class=\"dataframe\">\n",
       "  <thead>\n",
       "    <tr style=\"text-align: right;\">\n",
       "      <th></th>\n",
       "      <th>dateid</th>\n",
       "      <th>platform</th>\n",
       "      <th>gamemode</th>\n",
       "      <th>mapname</th>\n",
       "      <th>matchid</th>\n",
       "      <th>roundnumber</th>\n",
       "      <th>objectivelocation</th>\n",
       "      <th>winrole</th>\n",
       "      <th>endroundreason</th>\n",
       "      <th>roundduration</th>\n",
       "      <th>...</th>\n",
       "      <th>primarygrip</th>\n",
       "      <th>primaryunderbarrel</th>\n",
       "      <th>primarybarrel</th>\n",
       "      <th>secondaryweapon</th>\n",
       "      <th>secondaryweapontype</th>\n",
       "      <th>secondarysight</th>\n",
       "      <th>secondarygrip</th>\n",
       "      <th>secondaryunderbarrel</th>\n",
       "      <th>secondarybarrel</th>\n",
       "      <th>secondarygadget</th>\n",
       "    </tr>\n",
       "  </thead>\n",
       "  <tbody>\n",
       "    <tr>\n",
       "      <th>0</th>\n",
       "      <td>20170212</td>\n",
       "      <td>PC</td>\n",
       "      <td>HOSTAGE</td>\n",
       "      <td>CLUB_HOUSE</td>\n",
       "      <td>1522380841</td>\n",
       "      <td>1</td>\n",
       "      <td>STRIP_CLUB</td>\n",
       "      <td>Defender</td>\n",
       "      <td>AttackersKilledHostage</td>\n",
       "      <td>124</td>\n",
       "      <td>...</td>\n",
       "      <td>Vertical</td>\n",
       "      <td>NaN</td>\n",
       "      <td>Compensator</td>\n",
       "      <td>5.7_USG</td>\n",
       "      <td>Pistols</td>\n",
       "      <td>NaN</td>\n",
       "      <td>NaN</td>\n",
       "      <td>NaN</td>\n",
       "      <td>NaN</td>\n",
       "      <td>IMPACT_GRENADE</td>\n",
       "    </tr>\n",
       "    <tr>\n",
       "      <th>1</th>\n",
       "      <td>20170212</td>\n",
       "      <td>PC</td>\n",
       "      <td>HOSTAGE</td>\n",
       "      <td>CLUB_HOUSE</td>\n",
       "      <td>1522380841</td>\n",
       "      <td>4</td>\n",
       "      <td>CHURCH</td>\n",
       "      <td>Defender</td>\n",
       "      <td>AttackersEliminated</td>\n",
       "      <td>217</td>\n",
       "      <td>...</td>\n",
       "      <td>Vertical</td>\n",
       "      <td>Laser</td>\n",
       "      <td>Suppressor</td>\n",
       "      <td>P12</td>\n",
       "      <td>Pistols</td>\n",
       "      <td>NaN</td>\n",
       "      <td>NaN</td>\n",
       "      <td>Laser</td>\n",
       "      <td>Suppressor</td>\n",
       "      <td>DEPLOYABLE_SHIELD</td>\n",
       "    </tr>\n",
       "    <tr>\n",
       "      <th>2</th>\n",
       "      <td>20170212</td>\n",
       "      <td>PC</td>\n",
       "      <td>HOSTAGE</td>\n",
       "      <td>CLUB_HOUSE</td>\n",
       "      <td>1522380841</td>\n",
       "      <td>3</td>\n",
       "      <td>CHURCH</td>\n",
       "      <td>Defender</td>\n",
       "      <td>AttackersEliminated</td>\n",
       "      <td>160</td>\n",
       "      <td>...</td>\n",
       "      <td>NaN</td>\n",
       "      <td>NaN</td>\n",
       "      <td>NaN</td>\n",
       "      <td>MK1_9mm</td>\n",
       "      <td>Pistols</td>\n",
       "      <td>NaN</td>\n",
       "      <td>NaN</td>\n",
       "      <td>NaN</td>\n",
       "      <td>NaN</td>\n",
       "      <td>DEPLOYABLE_SHIELD</td>\n",
       "    </tr>\n",
       "    <tr>\n",
       "      <th>3</th>\n",
       "      <td>20170212</td>\n",
       "      <td>PC</td>\n",
       "      <td>HOSTAGE</td>\n",
       "      <td>CLUB_HOUSE</td>\n",
       "      <td>1522380841</td>\n",
       "      <td>4</td>\n",
       "      <td>CHURCH</td>\n",
       "      <td>Defender</td>\n",
       "      <td>AttackersEliminated</td>\n",
       "      <td>217</td>\n",
       "      <td>...</td>\n",
       "      <td>NaN</td>\n",
       "      <td>NaN</td>\n",
       "      <td>MuzzleBrake</td>\n",
       "      <td>PRB92</td>\n",
       "      <td>Pistols</td>\n",
       "      <td>NaN</td>\n",
       "      <td>NaN</td>\n",
       "      <td>NaN</td>\n",
       "      <td>NaN</td>\n",
       "      <td>IMPACT_GRENADE</td>\n",
       "    </tr>\n",
       "    <tr>\n",
       "      <th>4</th>\n",
       "      <td>20170212</td>\n",
       "      <td>PC</td>\n",
       "      <td>HOSTAGE</td>\n",
       "      <td>CLUB_HOUSE</td>\n",
       "      <td>1522380841</td>\n",
       "      <td>6</td>\n",
       "      <td>BEDROOM</td>\n",
       "      <td>Attacker</td>\n",
       "      <td>DefendersEliminated</td>\n",
       "      <td>143</td>\n",
       "      <td>...</td>\n",
       "      <td>Vertical</td>\n",
       "      <td>Laser</td>\n",
       "      <td>Suppressor</td>\n",
       "      <td>P12</td>\n",
       "      <td>Pistols</td>\n",
       "      <td>NaN</td>\n",
       "      <td>NaN</td>\n",
       "      <td>Laser</td>\n",
       "      <td>Suppressor</td>\n",
       "      <td>DEPLOYABLE_SHIELD</td>\n",
       "    </tr>\n",
       "  </tbody>\n",
       "</table>\n",
       "<p>5 rows × 31 columns</p>\n",
       "</div>"
      ],
      "text/plain": [
       "     dateid platform gamemode     mapname     matchid  roundnumber  \\\n",
       "0  20170212       PC  HOSTAGE  CLUB_HOUSE  1522380841            1   \n",
       "1  20170212       PC  HOSTAGE  CLUB_HOUSE  1522380841            4   \n",
       "2  20170212       PC  HOSTAGE  CLUB_HOUSE  1522380841            3   \n",
       "3  20170212       PC  HOSTAGE  CLUB_HOUSE  1522380841            4   \n",
       "4  20170212       PC  HOSTAGE  CLUB_HOUSE  1522380841            6   \n",
       "\n",
       "  objectivelocation   winrole          endroundreason  roundduration  ...  \\\n",
       "0        STRIP_CLUB  Defender  AttackersKilledHostage            124  ...   \n",
       "1            CHURCH  Defender     AttackersEliminated            217  ...   \n",
       "2            CHURCH  Defender     AttackersEliminated            160  ...   \n",
       "3            CHURCH  Defender     AttackersEliminated            217  ...   \n",
       "4           BEDROOM  Attacker     DefendersEliminated            143  ...   \n",
       "\n",
       "   primarygrip primaryunderbarrel primarybarrel  secondaryweapon  \\\n",
       "0     Vertical                NaN   Compensator          5.7_USG   \n",
       "1     Vertical              Laser    Suppressor              P12   \n",
       "2          NaN                NaN           NaN          MK1_9mm   \n",
       "3          NaN                NaN   MuzzleBrake            PRB92   \n",
       "4     Vertical              Laser    Suppressor              P12   \n",
       "\n",
       "   secondaryweapontype secondarysight  secondarygrip  secondaryunderbarrel  \\\n",
       "0              Pistols            NaN            NaN                   NaN   \n",
       "1              Pistols            NaN            NaN                 Laser   \n",
       "2              Pistols            NaN            NaN                   NaN   \n",
       "3              Pistols            NaN            NaN                   NaN   \n",
       "4              Pistols            NaN            NaN                 Laser   \n",
       "\n",
       "  secondarybarrel    secondarygadget  \n",
       "0             NaN     IMPACT_GRENADE  \n",
       "1      Suppressor  DEPLOYABLE_SHIELD  \n",
       "2             NaN  DEPLOYABLE_SHIELD  \n",
       "3             NaN     IMPACT_GRENADE  \n",
       "4      Suppressor  DEPLOYABLE_SHIELD  \n",
       "\n",
       "[5 rows x 31 columns]"
      ]
     },
     "execution_count": 1,
     "metadata": {},
     "output_type": "execute_result"
    }
   ],
   "source": [
    "import pandas as pd\n",
    "df = pd.read_csv(\"datadump_s5-000.csv.zip\")\n",
    "df.head(5)"
   ]
  },
  {
   "cell_type": "code",
   "execution_count": 2,
   "metadata": {},
   "outputs": [
    {
     "data": {
      "text/plain": [
       "(4000000,)"
      ]
     },
     "execution_count": 2,
     "metadata": {},
     "output_type": "execute_result"
    }
   ],
   "source": [
    "df_win = df[\"winrole\"]\n",
    "df_win\n",
    "\n",
    "df_win.shape"
   ]
  },
  {
   "cell_type": "code",
   "execution_count": 3,
   "metadata": {},
   "outputs": [
    {
     "data": {
      "text/plain": [
       "(4000000,)"
      ]
     },
     "execution_count": 3,
     "metadata": {},
     "output_type": "execute_result"
    }
   ],
   "source": [
    "df_nb_skill = df[\"nbkills\"]\n",
    "df_nb_skill\n",
    "\n",
    "df_nb_skill.shape"
   ]
  },
  {
   "cell_type": "code",
   "execution_count": 4,
   "metadata": {},
   "outputs": [
    {
     "data": {
      "text/plain": [
       "(4000000,)"
      ]
     },
     "execution_count": 4,
     "metadata": {},
     "output_type": "execute_result"
    }
   ],
   "source": [
    "df_skill = df[\"skillrank\"]\n",
    "df_skill\n",
    "\n",
    "df_skill.shape"
   ]
  },
  {
   "cell_type": "markdown",
   "metadata": {},
   "source": [
    "## 3. Dataset Cleaning"
   ]
  },
  {
   "cell_type": "markdown",
   "metadata": {},
   "source": [
    "The dataset contained explicit missing values (NaN), which were detected using df.isna().sum(), but no implicit missing values like empty strings or placeholders. To ensure data integrity, all rows with missing values were removed using df.dropna(), resulting in X rows being dropped. This approach was chosen because the number of missing values was small, and adding them could introduce bias. After cleaning, the dataset is now free of missing values and ready for analysis. I didnt see for for any other data cleaning to take place other than what i have as I feel as if what was dropped ws necessary for th what was needed for an accureate analysis."
   ]
  },
  {
   "cell_type": "code",
   "execution_count": 5,
   "metadata": {},
   "outputs": [
    {
     "data": {
      "text/html": [
       "<div>\n",
       "<style scoped>\n",
       "    .dataframe tbody tr th:only-of-type {\n",
       "        vertical-align: middle;\n",
       "    }\n",
       "\n",
       "    .dataframe tbody tr th {\n",
       "        vertical-align: top;\n",
       "    }\n",
       "\n",
       "    .dataframe thead th {\n",
       "        text-align: right;\n",
       "    }\n",
       "</style>\n",
       "<table border=\"1\" class=\"dataframe\">\n",
       "  <thead>\n",
       "    <tr style=\"text-align: right;\">\n",
       "      <th></th>\n",
       "      <th>skillrank</th>\n",
       "      <th>nbkills</th>\n",
       "      <th>winrole</th>\n",
       "    </tr>\n",
       "  </thead>\n",
       "  <tbody>\n",
       "    <tr>\n",
       "      <th>0</th>\n",
       "      <td>Gold</td>\n",
       "      <td>0</td>\n",
       "      <td>Defender</td>\n",
       "    </tr>\n",
       "    <tr>\n",
       "      <th>1</th>\n",
       "      <td>Gold</td>\n",
       "      <td>0</td>\n",
       "      <td>Defender</td>\n",
       "    </tr>\n",
       "    <tr>\n",
       "      <th>2</th>\n",
       "      <td>Gold</td>\n",
       "      <td>0</td>\n",
       "      <td>Defender</td>\n",
       "    </tr>\n",
       "    <tr>\n",
       "      <th>3</th>\n",
       "      <td>Gold</td>\n",
       "      <td>3</td>\n",
       "      <td>Defender</td>\n",
       "    </tr>\n",
       "    <tr>\n",
       "      <th>4</th>\n",
       "      <td>Gold</td>\n",
       "      <td>0</td>\n",
       "      <td>Attacker</td>\n",
       "    </tr>\n",
       "    <tr>\n",
       "      <th>...</th>\n",
       "      <td>...</td>\n",
       "      <td>...</td>\n",
       "      <td>...</td>\n",
       "    </tr>\n",
       "    <tr>\n",
       "      <th>3999995</th>\n",
       "      <td>Bronze</td>\n",
       "      <td>1</td>\n",
       "      <td>Defender</td>\n",
       "    </tr>\n",
       "    <tr>\n",
       "      <th>3999996</th>\n",
       "      <td>Bronze</td>\n",
       "      <td>2</td>\n",
       "      <td>Attacker</td>\n",
       "    </tr>\n",
       "    <tr>\n",
       "      <th>3999997</th>\n",
       "      <td>Silver</td>\n",
       "      <td>2</td>\n",
       "      <td>Attacker</td>\n",
       "    </tr>\n",
       "    <tr>\n",
       "      <th>3999998</th>\n",
       "      <td>Bronze</td>\n",
       "      <td>1</td>\n",
       "      <td>Defender</td>\n",
       "    </tr>\n",
       "    <tr>\n",
       "      <th>3999999</th>\n",
       "      <td>Bronze</td>\n",
       "      <td>0</td>\n",
       "      <td>Defender</td>\n",
       "    </tr>\n",
       "  </tbody>\n",
       "</table>\n",
       "<p>4000000 rows × 3 columns</p>\n",
       "</div>"
      ],
      "text/plain": [
       "        skillrank  nbkills   winrole\n",
       "0            Gold        0  Defender\n",
       "1            Gold        0  Defender\n",
       "2            Gold        0  Defender\n",
       "3            Gold        3  Defender\n",
       "4            Gold        0  Attacker\n",
       "...           ...      ...       ...\n",
       "3999995    Bronze        1  Defender\n",
       "3999996    Bronze        2  Attacker\n",
       "3999997    Silver        2  Attacker\n",
       "3999998    Bronze        1  Defender\n",
       "3999999    Bronze        0  Defender\n",
       "\n",
       "[4000000 rows x 3 columns]"
      ]
     },
     "execution_count": 5,
     "metadata": {},
     "output_type": "execute_result"
    }
   ],
   "source": [
    "df = pd.read_csv(\"datadump_s5-000.csv.zip\", na_values=\"NaN\")\n",
    "df = df[[\"skillrank\",\"nbkills\",\"winrole\"]]\n",
    "df"
   ]
  },
  {
   "cell_type": "code",
   "execution_count": 6,
   "metadata": {},
   "outputs": [
    {
     "data": {
      "text/html": [
       "<div>\n",
       "<style scoped>\n",
       "    .dataframe tbody tr th:only-of-type {\n",
       "        vertical-align: middle;\n",
       "    }\n",
       "\n",
       "    .dataframe tbody tr th {\n",
       "        vertical-align: top;\n",
       "    }\n",
       "\n",
       "    .dataframe thead th {\n",
       "        text-align: right;\n",
       "    }\n",
       "</style>\n",
       "<table border=\"1\" class=\"dataframe\">\n",
       "  <thead>\n",
       "    <tr style=\"text-align: right;\">\n",
       "      <th></th>\n",
       "      <th>skillrank</th>\n",
       "      <th>nbkills</th>\n",
       "      <th>winrole</th>\n",
       "    </tr>\n",
       "  </thead>\n",
       "  <tbody>\n",
       "    <tr>\n",
       "      <th>0</th>\n",
       "      <td>False</td>\n",
       "      <td>False</td>\n",
       "      <td>False</td>\n",
       "    </tr>\n",
       "    <tr>\n",
       "      <th>1</th>\n",
       "      <td>False</td>\n",
       "      <td>False</td>\n",
       "      <td>False</td>\n",
       "    </tr>\n",
       "    <tr>\n",
       "      <th>2</th>\n",
       "      <td>False</td>\n",
       "      <td>False</td>\n",
       "      <td>False</td>\n",
       "    </tr>\n",
       "    <tr>\n",
       "      <th>3</th>\n",
       "      <td>False</td>\n",
       "      <td>False</td>\n",
       "      <td>False</td>\n",
       "    </tr>\n",
       "    <tr>\n",
       "      <th>4</th>\n",
       "      <td>False</td>\n",
       "      <td>False</td>\n",
       "      <td>False</td>\n",
       "    </tr>\n",
       "    <tr>\n",
       "      <th>...</th>\n",
       "      <td>...</td>\n",
       "      <td>...</td>\n",
       "      <td>...</td>\n",
       "    </tr>\n",
       "    <tr>\n",
       "      <th>3999995</th>\n",
       "      <td>False</td>\n",
       "      <td>False</td>\n",
       "      <td>False</td>\n",
       "    </tr>\n",
       "    <tr>\n",
       "      <th>3999996</th>\n",
       "      <td>False</td>\n",
       "      <td>False</td>\n",
       "      <td>False</td>\n",
       "    </tr>\n",
       "    <tr>\n",
       "      <th>3999997</th>\n",
       "      <td>False</td>\n",
       "      <td>False</td>\n",
       "      <td>False</td>\n",
       "    </tr>\n",
       "    <tr>\n",
       "      <th>3999998</th>\n",
       "      <td>False</td>\n",
       "      <td>False</td>\n",
       "      <td>False</td>\n",
       "    </tr>\n",
       "    <tr>\n",
       "      <th>3999999</th>\n",
       "      <td>False</td>\n",
       "      <td>False</td>\n",
       "      <td>False</td>\n",
       "    </tr>\n",
       "  </tbody>\n",
       "</table>\n",
       "<p>4000000 rows × 3 columns</p>\n",
       "</div>"
      ],
      "text/plain": [
       "         skillrank  nbkills  winrole\n",
       "0            False    False    False\n",
       "1            False    False    False\n",
       "2            False    False    False\n",
       "3            False    False    False\n",
       "4            False    False    False\n",
       "...            ...      ...      ...\n",
       "3999995      False    False    False\n",
       "3999996      False    False    False\n",
       "3999997      False    False    False\n",
       "3999998      False    False    False\n",
       "3999999      False    False    False\n",
       "\n",
       "[4000000 rows x 3 columns]"
      ]
     },
     "execution_count": 6,
     "metadata": {},
     "output_type": "execute_result"
    }
   ],
   "source": [
    "df.isna()"
   ]
  },
  {
   "cell_type": "code",
   "execution_count": 7,
   "metadata": {},
   "outputs": [
    {
     "data": {
      "text/html": [
       "<div>\n",
       "<style scoped>\n",
       "    .dataframe tbody tr th:only-of-type {\n",
       "        vertical-align: middle;\n",
       "    }\n",
       "\n",
       "    .dataframe tbody tr th {\n",
       "        vertical-align: top;\n",
       "    }\n",
       "\n",
       "    .dataframe thead th {\n",
       "        text-align: right;\n",
       "    }\n",
       "</style>\n",
       "<table border=\"1\" class=\"dataframe\">\n",
       "  <thead>\n",
       "    <tr style=\"text-align: right;\">\n",
       "      <th></th>\n",
       "      <th>skillrank</th>\n",
       "      <th>nbkills</th>\n",
       "      <th>winrole</th>\n",
       "    </tr>\n",
       "  </thead>\n",
       "  <tbody>\n",
       "    <tr>\n",
       "      <th>0</th>\n",
       "      <td>Gold</td>\n",
       "      <td>0</td>\n",
       "      <td>Defender</td>\n",
       "    </tr>\n",
       "    <tr>\n",
       "      <th>1</th>\n",
       "      <td>Gold</td>\n",
       "      <td>0</td>\n",
       "      <td>Defender</td>\n",
       "    </tr>\n",
       "    <tr>\n",
       "      <th>2</th>\n",
       "      <td>Gold</td>\n",
       "      <td>0</td>\n",
       "      <td>Defender</td>\n",
       "    </tr>\n",
       "    <tr>\n",
       "      <th>3</th>\n",
       "      <td>Gold</td>\n",
       "      <td>3</td>\n",
       "      <td>Defender</td>\n",
       "    </tr>\n",
       "    <tr>\n",
       "      <th>4</th>\n",
       "      <td>Gold</td>\n",
       "      <td>0</td>\n",
       "      <td>Attacker</td>\n",
       "    </tr>\n",
       "    <tr>\n",
       "      <th>...</th>\n",
       "      <td>...</td>\n",
       "      <td>...</td>\n",
       "      <td>...</td>\n",
       "    </tr>\n",
       "    <tr>\n",
       "      <th>3999995</th>\n",
       "      <td>Bronze</td>\n",
       "      <td>1</td>\n",
       "      <td>Defender</td>\n",
       "    </tr>\n",
       "    <tr>\n",
       "      <th>3999996</th>\n",
       "      <td>Bronze</td>\n",
       "      <td>2</td>\n",
       "      <td>Attacker</td>\n",
       "    </tr>\n",
       "    <tr>\n",
       "      <th>3999997</th>\n",
       "      <td>Silver</td>\n",
       "      <td>2</td>\n",
       "      <td>Attacker</td>\n",
       "    </tr>\n",
       "    <tr>\n",
       "      <th>3999998</th>\n",
       "      <td>Bronze</td>\n",
       "      <td>1</td>\n",
       "      <td>Defender</td>\n",
       "    </tr>\n",
       "    <tr>\n",
       "      <th>3999999</th>\n",
       "      <td>Bronze</td>\n",
       "      <td>0</td>\n",
       "      <td>Defender</td>\n",
       "    </tr>\n",
       "  </tbody>\n",
       "</table>\n",
       "<p>4000000 rows × 3 columns</p>\n",
       "</div>"
      ],
      "text/plain": [
       "        skillrank  nbkills   winrole\n",
       "0            Gold        0  Defender\n",
       "1            Gold        0  Defender\n",
       "2            Gold        0  Defender\n",
       "3            Gold        3  Defender\n",
       "4            Gold        0  Attacker\n",
       "...           ...      ...       ...\n",
       "3999995    Bronze        1  Defender\n",
       "3999996    Bronze        2  Attacker\n",
       "3999997    Silver        2  Attacker\n",
       "3999998    Bronze        1  Defender\n",
       "3999999    Bronze        0  Defender\n",
       "\n",
       "[4000000 rows x 3 columns]"
      ]
     },
     "execution_count": 7,
     "metadata": {},
     "output_type": "execute_result"
    }
   ],
   "source": [
    "df = df.dropna()\n",
    "df"
   ]
  },
  {
   "cell_type": "code",
   "execution_count": 21,
   "metadata": {},
   "outputs": [
    {
     "data": {
      "text/plain": [
       "0"
      ]
     },
     "execution_count": 21,
     "metadata": {},
     "output_type": "execute_result"
    }
   ],
   "source": [
    "dropped_rows = 4000000 - 4000000\n",
    "dropped_rows"
   ]
  },
  {
   "cell_type": "code",
   "execution_count": 9,
   "metadata": {},
   "outputs": [
    {
     "data": {
      "text/html": [
       "<div>\n",
       "<style scoped>\n",
       "    .dataframe tbody tr th:only-of-type {\n",
       "        vertical-align: middle;\n",
       "    }\n",
       "\n",
       "    .dataframe tbody tr th {\n",
       "        vertical-align: top;\n",
       "    }\n",
       "\n",
       "    .dataframe thead th {\n",
       "        text-align: right;\n",
       "    }\n",
       "</style>\n",
       "<table border=\"1\" class=\"dataframe\">\n",
       "  <thead>\n",
       "    <tr style=\"text-align: right;\">\n",
       "      <th></th>\n",
       "      <th>skillrank</th>\n",
       "      <th>nbkills</th>\n",
       "      <th>winrole</th>\n",
       "    </tr>\n",
       "  </thead>\n",
       "  <tbody>\n",
       "    <tr>\n",
       "      <th>0</th>\n",
       "      <td>Gold</td>\n",
       "      <td>0</td>\n",
       "      <td>Defender</td>\n",
       "    </tr>\n",
       "    <tr>\n",
       "      <th>1</th>\n",
       "      <td>Gold</td>\n",
       "      <td>0</td>\n",
       "      <td>Defender</td>\n",
       "    </tr>\n",
       "    <tr>\n",
       "      <th>2</th>\n",
       "      <td>Gold</td>\n",
       "      <td>0</td>\n",
       "      <td>Defender</td>\n",
       "    </tr>\n",
       "    <tr>\n",
       "      <th>3</th>\n",
       "      <td>Gold</td>\n",
       "      <td>3</td>\n",
       "      <td>Defender</td>\n",
       "    </tr>\n",
       "    <tr>\n",
       "      <th>4</th>\n",
       "      <td>Gold</td>\n",
       "      <td>0</td>\n",
       "      <td>Attacker</td>\n",
       "    </tr>\n",
       "    <tr>\n",
       "      <th>...</th>\n",
       "      <td>...</td>\n",
       "      <td>...</td>\n",
       "      <td>...</td>\n",
       "    </tr>\n",
       "    <tr>\n",
       "      <th>3999995</th>\n",
       "      <td>Bronze</td>\n",
       "      <td>1</td>\n",
       "      <td>Defender</td>\n",
       "    </tr>\n",
       "    <tr>\n",
       "      <th>3999996</th>\n",
       "      <td>Bronze</td>\n",
       "      <td>2</td>\n",
       "      <td>Attacker</td>\n",
       "    </tr>\n",
       "    <tr>\n",
       "      <th>3999997</th>\n",
       "      <td>Silver</td>\n",
       "      <td>2</td>\n",
       "      <td>Attacker</td>\n",
       "    </tr>\n",
       "    <tr>\n",
       "      <th>3999998</th>\n",
       "      <td>Bronze</td>\n",
       "      <td>1</td>\n",
       "      <td>Defender</td>\n",
       "    </tr>\n",
       "    <tr>\n",
       "      <th>3999999</th>\n",
       "      <td>Bronze</td>\n",
       "      <td>0</td>\n",
       "      <td>Defender</td>\n",
       "    </tr>\n",
       "  </tbody>\n",
       "</table>\n",
       "<p>3999980 rows × 3 columns</p>\n",
       "</div>"
      ],
      "text/plain": [
       "        skillrank  nbkills   winrole\n",
       "0            Gold        0  Defender\n",
       "1            Gold        0  Defender\n",
       "2            Gold        0  Defender\n",
       "3            Gold        3  Defender\n",
       "4            Gold        0  Attacker\n",
       "...           ...      ...       ...\n",
       "3999995    Bronze        1  Defender\n",
       "3999996    Bronze        2  Attacker\n",
       "3999997    Silver        2  Attacker\n",
       "3999998    Bronze        1  Defender\n",
       "3999999    Bronze        0  Defender\n",
       "\n",
       "[3999980 rows x 3 columns]"
      ]
     },
     "execution_count": 9,
     "metadata": {},
     "output_type": "execute_result"
    }
   ],
   "source": [
    "df_filtered = df[df.groupby(['skillrank', 'nbkills'])['skillrank'].transform('count') >= 10]\n",
    "df_filtered"
   ]
  },
  {
   "cell_type": "code",
   "execution_count": null,
   "metadata": {},
   "outputs": [],
   "source": []
  },
  {
   "cell_type": "code",
   "execution_count": 10,
   "metadata": {},
   "outputs": [
    {
     "data": {
      "image/png": "[encoded data removed]",
      "text/plain": [
       "<Figure size 1200x600 with 1 Axes>"
      ]
     },
     "metadata": {},
     "output_type": "display_data"
    }
   ],
   "source": [
    "import seaborn as sns\n",
    "import matplotlib. pyplot as plt\n",
    "\n",
    "plt.figure(figsize=(12, 6))\n",
    "sns.boxplot(x='winrole', y='nbkills', data=df_filtered)\n",
    "plt.title(\"Distribution of Non-Battle Kills by Win Role\")\n",
    "plt.xlabel(\"Win Role\")\n",
    "plt.ylabel(\"Non-Battle Kills\")\n",
    "plt.show()\n"
   ]
  },
  {
   "cell_type": "markdown",
   "metadata": {},
   "source": [
    "pros:I believe that it's important to keep the outliers as they show all player behaivors and not a trimmed down version. They also highlight exceptional players who might get more nb-kills than the avergae player.\n",
    "\n",
    "cons:It skeews the mean, if most playets get between 0-2 nb-kills a mathch and someone is good well skilled gets 6 it skews the means.\n",
    "\n",
    "The purpose of this research is to analyze game data for all levels of gameplay so i believe it to be importnat to keep the outliers."
   ]
  },
  {
   "cell_type": "markdown",
   "metadata": {},
   "source": [
    "## 4. <u>Research Question</u>: How does the Relationship between `x` and `y` Change based on Different Values of `z` in the Dataset?"
   ]
  },
  {
   "cell_type": "markdown",
   "metadata": {},
   "source": [
    "Research Question: How does the relationship between player skill rank (skillrank) and non-battle kills (nbkills) affect the outcome of an R6 player winining on either Attack or Defense? The appropiate summary statistics for my research question and the values that im using are to compare the shape of numerical distibutions, apropiate mueasures of center, appropiate measure of spread, and find the nature of the outliers."
   ]
  },
  {
   "cell_type": "code",
   "execution_count": 19,
   "metadata": {},
   "outputs": [
    {
     "data": {
      "image/png": "[encoded data removed]",
      "text/plain": [
       "<Figure size 1200x600 with 1 Axes>"
      ]
     },
     "metadata": {},
     "output_type": "display_data"
    }
   ],
   "source": [
    "import matplotlib.pyplot as plt\n",
    "import seaborn as sns\n",
    "\n",
    "plt.figure(figsize=(12, 6))\n",
    "sns.violinplot(x='skillrank', y='nbkills', hue='winrole', data=df_filtered, split=True)\n",
    "\n",
    "plt.title(\"Distribution of Non-Battle Kills by Skill Rank and Win Role\")\n",
    "plt.xlabel(\"Skill Rank\")\n",
    "plt.ylabel(\"Non-Battle Kills\")\n",
    "plt.legend(title=\"Win Role\")\n",
    "\n",
    "plt.show()\n"
   ]
  },
  {
   "cell_type": "code",
   "execution_count": 13,
   "metadata": {},
   "outputs": [
    {
     "name": "stdout",
     "output_type": "stream",
     "text": [
      "                        mean  median\n",
      "skillrank winrole                   \n",
      "Bronze    Attacker  0.636922     0.0\n",
      "          Defender  0.655299     0.0\n",
      "Copper    Attacker  0.602496     0.0\n",
      "          Defender  0.626953     0.0\n",
      "Diamond   Attacker  0.887329     1.0\n",
      "          Defender  0.904367     1.0\n",
      "Gold      Attacker  0.726983     0.0\n",
      "          Defender  0.740066     0.0\n",
      "Platinum  Attacker  0.805664     1.0\n",
      "          Defender  0.815936     1.0\n",
      "Silver    Attacker  0.673594     0.0\n",
      "          Defender  0.685440     0.0\n",
      "Unranked  Attacker  0.586399     0.0\n",
      "          Defender  0.603482     0.0\n"
     ]
    }
   ],
   "source": [
    "summary_center = df_filtered.groupby(['skillrank', 'winrole'])['nbkills'].agg(['mean', 'median'])\n",
    "print(summary_center)\n"
   ]
  },
  {
   "cell_type": "code",
   "execution_count": 20,
   "metadata": {},
   "outputs": [
    {
     "data": {
      "image/png": "[encoded data removed]",
      "text/plain": [
       "<Figure size 1200x600 with 1 Axes>"
      ]
     },
     "metadata": {},
     "output_type": "display_data"
    }
   ],
   "source": [
    "import matplotlib.pyplot as plt\n",
    "import seaborn as sns\n",
    "\n",
    "plt.figure(figsize=(12, 6))\n",
    "\n",
    "sns.boxplot(x='skillrank', y='nbkills', hue='winrole', data=df_filtered)\n",
    "\n",
    "plt.title(\"Non-Battle Kills Across Skill Rank and Win Role\")\n",
    "plt.xlabel(\"Skill Rank\")\n",
    "plt.ylabel(\"Non-Battle Kills\")\n",
    "plt.legend(title=\"Win Role\")\n",
    "\n",
    "\n",
    "plt.show()\n"
   ]
  },
  {
   "cell_type": "markdown",
   "metadata": {},
   "source": []
  },
  {
   "cell_type": "markdown",
   "metadata": {},
   "source": [
    "## 5. Conclusion"
   ]
  },
  {
   "cell_type": "markdown",
   "metadata": {},
   "source": [
    "The violin plot shows the distribution of non-battle kills for each skill rank, split by attackers and defenders. Wider sections indicate higher concentration of players at certain nb-kills values, while the median is shown as a dot. It suggests that there are differences in the distribution of nb-kills between attackers and defenders across ranks. However, to confirm if these differences influence winning on Attack or Defense, statistical tests are needed such as a logistic regression which has not been covered within this course. However based off the IQR we can infere that there is little to no association as they dont overlap eachother but sit side by side. This finding was kind of dissapointing as I hoped for it to workout and be the answer. I wonder if my showings differ if I excluded the many standard deviations."
   ]
  }
 ],
 "metadata": {
  "kernelspec": {
   "display_name": "Python 3 (ipykernel)",
   "language": "python",
   "name": "python3"
  },
  "language_info": {
   "codemirror_mode": {
    "name": "ipython",
    "version": 3
   },
   "file_extension": ".py",
   "mimetype": "text/x-python",
   "name": "python",
   "nbconvert_exporter": "python",
   "pygments_lexer": "ipython3",
   "version": "3.9.6"
  }
 },
 "nbformat": 4,
 "nbformat_minor": 4
}
